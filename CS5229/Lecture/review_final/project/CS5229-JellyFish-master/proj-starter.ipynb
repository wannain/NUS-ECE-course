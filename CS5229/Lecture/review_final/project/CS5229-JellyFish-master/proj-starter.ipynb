{
 "cells": [
  {
   "cell_type": "markdown",
   "source": [
    "# Starter Code for CS5229_2021 Term Project\n",
    "\n",
    "\n",
    "## Setup and necessary Libraries\n",
    "For reproducing Figure 1 of the JellyFish paper, we are going to use the following libraries:\n",
    "1. [networkX](https://networkx.org/) for implementing the construction algorithm of JellyFish.\n",
    "2. [random](https://docs.python.org/3/library/random.html) also for implementing the construction algorithm of JellyFish.\n",
    "3. [fnss](http://fnss.github.io/) to get a ready-made constructed fat tree topology.\n",
    "4. [matplotlib](https://matplotlib.org/) for drawing the graph topologies in Figure 1(a) and 1(b).\n",
    "\n",
    "We recommend you use a Python virtual environment using a package management system like [miniconda](https://docs.conda.io/en/latest/miniconda.html) so that you can get the latest version of Python3 (3.9.7) irrespective of your local platform. Also, within your Python virtual environment, using `pip` you could get the latest versions of `networkx` (2.6.3) and `fnss` (0.9.1). You can also use `pip` to get the latest version of `mininet` (2.3.0) for part 3 of the project."
   ],
   "metadata": {}
  },
  {
   "cell_type": "markdown",
   "source": [
    "## Building Fat Tree Topology Graph\n",
    "\n",
    "The following function is given to you to readily build a Fat Tree topology graph for a given parameter `k`."
   ],
   "metadata": {}
  },
  {
   "cell_type": "code",
   "execution_count": 2,
   "source": [
    "import fnss\r\n",
    "\r\n",
    "def build_fattree_graph(k):\r\n",
    "    \"\"\"\r\n",
    "    Uses the fnss library to build a fat tree topology with k-port switches\r\n",
    "    \r\n",
    "    Parameters\r\n",
    "    ----------\r\n",
    "    k: int\r\n",
    "      Number of ports per fat tree switch\r\n",
    "      \r\n",
    "    Returns\r\n",
    "    -------\r\n",
    "    fnss.DatacenterTopology\r\n",
    "    \"\"\"\r\n",
    "    return fnss.fat_tree_topology(k)"
   ],
   "outputs": [],
   "metadata": {}
  },
  {
   "cell_type": "markdown",
   "source": [
    "## Building a Complete Graph\n",
    "\n",
    "The following function is given to you to readily build a complete graph with `n` nodes."
   ],
   "metadata": {}
  },
  {
   "cell_type": "code",
   "execution_count": 3,
   "source": [
    "import networkx as nx\r\n",
    "\r\n",
    "def build_complete_graph(n):\r\n",
    "    \"\"\"\r\n",
    "    Use the networkX library to build a complete graph\r\n",
    "    \r\n",
    "    Parameters\r\n",
    "    ----------\r\n",
    "    n: int\r\n",
    "      Number of nodes in the graph\r\n",
    "      \r\n",
    "    Returns\r\n",
    "    -------\r\n",
    "    networkx.Graph\r\n",
    "      Complete graph with n nodes\r\n",
    "    \"\"\"\r\n",
    "    return nx.complete_graph(n)"
   ],
   "outputs": [],
   "metadata": {}
  },
  {
   "cell_type": "markdown",
   "source": [
    "## Building JellyFish Topology Graph\n",
    "\n",
    "You would complete the following function template to build a JellyFish topology graph and submit on Coursemology. Ideally, you should not require any library other than `networkx` and `random`. This function would return a `networkx.Graph` object. The following function template is also provided on Coursemology for your team's submission. We have also provided some basic tests on Coursemology to help you do some *basic* checks of your implementation. Note that passing the test cases on Coursemology does **NOT** guarantee that your implementation is fully correct."
   ],
   "metadata": {}
  },
  {
   "cell_type": "code",
   "execution_count": 1,
   "source": [
    "import networkx as nx\n",
    "import random\n",
    "\n",
    "def build_jellyfish_graph(num_racks, switch_degree, num_hosts_per_rack):\n",
    "    \"\"\"\n",
    "    Uses the networkx library to build a JellyFish topology with given parameters\n",
    "    \n",
    "    Parameters\n",
    "    ----------\n",
    "    num_racks: int\n",
    "      Total number of racks. Also, equivalent to the number of switches\n",
    "      Called \"N\" in the JellyFish paper\n",
    "    \n",
    "    switch_degree: int\n",
    "      Total number of ports per switch\n",
    "      Called \"k\" in the JellyFish paper\n",
    "      \n",
    "    num_hosts_per_rack: int\n",
    "      Total number of hosts (servers) per rack\n",
    "      Called \"(k - r)\" in the JellyFish paper\n",
    "      \n",
    "    Returns\n",
    "    -------\n",
    "    networkx.Graph\n",
    "      A JellyFish topology graph. Each node is tagged with an attribute called 'type'. \n",
    "      Possible values for 'type' are 'host' or 'switch'.\n",
    "    \"\"\"\n",
    "    # Please tag your nodes like following\n",
    "    # graph = nx.Graph()\n",
    "    # graph.add_node('s1', type='switch')\n",
    "    # graph.add_node('h1', type='host')\n",
    "    num_hosts = num_hosts_per_rack * num_racks\n",
    "    switch_list = []\n",
    "    host_list = []\n",
    "    switch_port_count = {}\n",
    "\n",
    "    # Initialize nodes\n",
    "    graph = nx.Graph()\n",
    "    for i in range(num_racks):\n",
    "      _switch = 's' + str(i+1)\n",
    "      switch_list.append(_switch)\n",
    "      graph.add_node(_switch, type='switch')\n",
    "    for i in range(num_hosts):\n",
    "      _host = 'h' + str(i+1)\n",
    "      host_list.append(_host)\n",
    "      graph.add_node(_host, type='host')\n",
    "\n",
    "    # Connect hosts to switches\n",
    "    host_set = set(host_list)\n",
    "    for switch in switch_list:\n",
    "      for i in range(num_hosts_per_rack):\n",
    "        _host = random.choice(tuple(host_set))\n",
    "        graph.add_edge(switch, _host) # two directions?\n",
    "        host_set.remove(_host)\n",
    "    \n",
    "    # Connect switches to switches\n",
    "    num_ports_free = switch_degree - num_hosts_per_rack\n",
    "    for switch in switch_list:\n",
    "      switch_port_count[switch] = num_ports_free\n",
    "\n",
    "    switch_set = set(switch_list)\n",
    "    for switch in switch_list:\n",
    "      if switch in switch_set:\n",
    "        switch_set.remove(switch)\n",
    "        _free_ports = switch_port_count[switch]\n",
    "        if _free_ports > len(switch_set):\n",
    "          _free_ports = len(switch_set)\n",
    "        _switches = random.sample(switch_set, _free_ports)\n",
    "        for _switch in _switches:\n",
    "          graph.add_edge(switch, _switch)\n",
    "          switch_port_count[switch] -= 1\n",
    "          switch_port_count[_switch] -= 1\n",
    "          if switch_port_count[_switch] == 0:\n",
    "            switch_set.remove(_switch)\n",
    "    \n",
    "    return graph"
   ],
   "outputs": [],
   "metadata": {}
  },
  {
   "cell_type": "markdown",
   "source": [
    "## Drawing the Topology Graphs\n",
    "\n",
    "We are providing the following helper function which would help you to draw Figure 1(a) and Figure 1(b) of the JellyFish paper (without the concentric circles)."
   ],
   "metadata": {}
  },
  {
   "cell_type": "code",
   "execution_count": 2,
   "source": [
    "import matplotlib.pyplot as plt\r\n",
    "\r\n",
    "def draw_topo_graph(topo_graph, outfile):\r\n",
    "    \"\"\"\r\n",
    "    Uses matplotlib to draw the topology graph to the outfile. Uses different\r\n",
    "    colors for the nodes if nodes have the attribute 'type' set to either\r\n",
    "    'switch' or 'host'.\r\n",
    "    \r\n",
    "    Parameters\r\n",
    "    ----------\r\n",
    "    topo_graph: fnss.DatacenterTopology or networkx.Graph\r\n",
    "      Input topology graph. Should be an object of type networkx.Graph OR fnss.DatacenterTopology\r\n",
    "    outfile: string\r\n",
    "      Path along with filename and extension to output the topology graph drawing\r\n",
    "      \r\n",
    "    Returns\r\n",
    "    -------\r\n",
    "    outfile: jpg, png, svg or pdf file depending on the file extension\r\n",
    "      Draws the graph to the outfile.\r\n",
    "    \"\"\"\r\n",
    "\r\n",
    "    switch_color = '#800000'\r\n",
    "    host_color = '#808080'\r\n",
    "\r\n",
    "    color_map = []\r\n",
    "    for node,attributes in topo_graph.nodes.data():\r\n",
    "        node_type = attributes.get('type')\r\n",
    "        if node_type == 'switch':\r\n",
    "            color_map.append(switch_color)\r\n",
    "        elif node_type == 'host':\r\n",
    "            color_map.append(host_color)\r\n",
    "\r\n",
    "    if (len(color_map) > 0):\r\n",
    "        nx.draw(topo_graph, node_color = color_map)   \r\n",
    "    else:\r\n",
    "        nx.draw(topo_graph)\r\n",
    "    \r\n",
    "    plt.savefig(outfile)\r\n"
   ],
   "outputs": [],
   "metadata": {}
  },
  {
   "cell_type": "markdown",
   "source": [
    "The following code demonstrates the usage of the helper function:"
   ],
   "metadata": {}
  },
  {
   "cell_type": "code",
   "execution_count": 17,
   "source": [
    "# fat_tree_6 = build_fattree_graph(6)\r\n",
    "# draw_topo_graph(fat_tree_6, './fat_tree_6.png')\r\n",
    "\r\n",
    "jellyfish_20_4_1 = build_jellyfish_graph(20, 4, 1)\r\n",
    "draw_topo_graph(jellyfish_20_4_1, './jellyfish_20_4_1.png')"
   ],
   "outputs": [
    {
     "output_type": "stream",
     "name": "stdout",
     "text": [
      "[90]\n"
     ]
    },
    {
     "output_type": "stream",
     "name": "stderr",
     "text": [
      "C:\\Users\\RAINBOOR\\AppData\\Local\\Temp/ipykernel_52728/78682623.py:9: DeprecationWarning: Sampling from a set deprecated\n",
      "since Python 3.9 and will be removed in a subsequent version.\n",
      "  print(random.sample(s_set, 1))\n",
      "C:\\Users\\RAINBOOR\\AppData\\Local\\Temp/ipykernel_52728/3651410430.py:68: DeprecationWarning: Sampling from a set deprecated\n",
      "since Python 3.9 and will be removed in a subsequent version.\n",
      "  _switches = random.sample(switch_set, _free_ports)\n"
     ]
    },
    {
     "output_type": "display_data",
     "data": {
      "image/png": "[encoded data removed]",
      "text/plain": [
       "<Figure size 432x288 with 1 Axes>"
      ]
     },
     "metadata": {}
    }
   ],
   "metadata": {}
  },
  {
   "cell_type": "code",
   "execution_count": null,
   "source": [],
   "outputs": [],
   "metadata": {}
  }
 ],
 "metadata": {
  "interpreter": {
   "hash": "4c928805fae65803a38e4a1036d5ec147c3f944e67431aae13b0eaf78e20a2b8"
  },
  "kernelspec": {
   "name": "python3",
   "display_name": "Python 3.9.7 64-bit ('jellyfish': conda)"
  },
  "language_info": {
   "codemirror_mode": {
    "name": "ipython",
    "version": 3
   },
   "file_extension": ".py",
   "mimetype": "text/x-python",
   "name": "python",
   "nbconvert_exporter": "python",
   "pygments_lexer": "ipython3",
   "version": "3.9.7"
  }
 },
 "nbformat": 4,
 "nbformat_minor": 5
}